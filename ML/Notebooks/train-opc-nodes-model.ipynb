{
    "metadata": {
        "kernelspec": {
            "name": "python3",
            "display_name": "Python 3 (ipykernel)",
            "language": "python"
        },
        "language_info": {
            "name": "python",
            "version": "3.8.10",
            "mimetype": "text/x-python",
            "codemirror_mode": {
                "name": "ipython",
                "version": 3
            },
            "pygments_lexer": "ipython3",
            "nbconvert_exporter": "python",
            "file_extension": ".py"
        }
    },
    "nbformat_minor": 2,
    "nbformat": 4,
    "cells": [
        {
            "cell_type": "markdown",
            "source": [
                "INSTALL DEPENDENCIES"
            ],
            "metadata": {
                "azdata_cell_guid": "b2c71178-6846-423d-a1fa-f864fab7c58b"
            },
            "attachments": {}
        },
        {
            "cell_type": "code",
            "source": [
                "!pip install pandas\r\n",
                "!pip install scikit-learn\r\n",
                "!pip install numpy\r\n",
                "!pip install onnxmltools\r\n",
                "!pip install onnxruntime\r\n",
                "!pip install pyodbc\r\n",
                "!pip install setuptools\r\n",
                "!pip install skl2onnx\r\n",
                "!pip install sqlalchemy"
            ],
            "metadata": {
                "azdata_cell_guid": "a6b17618-9951-4cf0-aca9-39e39f3020bf"
            },
            "outputs": [],
            "execution_count": null
        },
        {
            "cell_type": "markdown",
            "source": [
                "SET VALUES"
            ],
            "metadata": {
                "azdata_cell_guid": "c455a0cb-048b-405d-ae6d-0095fae75161"
            },
            "attachments": {}
        },
        {
            "cell_type": "code",
            "source": [
                "import pyodbc\r\n",
                "import skl2onnx\r\n",
                "import sklearn\r\n",
                "import sklearn.datasets\r\n",
                "import numpy as np\r\n",
                "import onnxmltools\r\n",
                "import onnxruntime as rt\r\n",
                "import pandas as pd\r\n",
                "from onnxruntime.capi.onnxruntime_pybind11_state import InvalidArgument\r\n",
                "\r\n",
                "\r\n",
                "server = 'iotedgevm-f3f741f1-f3f741f1.eastus.cloudapp.azure.com' # SQL Server IP address\r\n",
                "username = 'sa' # SQL Server username\r\n",
                "password = 'Strong!Passw0rd' # SQL Server password\r\n",
                "database = 'IoTEdgeDB'\r\n",
                "data_table = 'OpcNodes'\r\n",
                "models_table = 'Models'\r\n",
                "\r\n",
                "master_connection_string = \"Driver={ODBC Driver 17 for SQL Server};Server=\" + server + \";Database=master;UID=\" + username + \";PWD=\" + password + \";\"\r\n",
                "db_connection_string = \"Driver={ODBC Driver 17 for SQL Server};Server=\" + server + \";Database=\" + database + \";UID=\" + username + \";PWD=\" + password + \";\"\r\n",
                "\r\n",
                "conn = pyodbc.connect(db_connection_string, autocommit=True)"
            ],
            "metadata": {
                "azdata_cell_guid": "7c6e9aa7-c080-4e58-95bc-e846aab39984"
            },
            "outputs": [],
            "execution_count": 28
        },
        {
            "cell_type": "markdown",
            "source": [
                "CREATE X TRAIN DATASET"
            ],
            "metadata": {
                "azdata_cell_guid": "bf2ef7fe-a9f0-479b-8e03-e34fed0a75df"
            },
            "attachments": {}
        },
        {
            "cell_type": "code",
            "source": [
                "query = 'SELECT ApplicationUri, DipData, SpikeData, RandomSignedInt32 FROM OpcNodes WHERE DipData IS NOT NULL AND SpikeData IS NOT NULL AND RandomSignedInt32 IS NOT NULL'\r\n",
                "sql_query = pd.read_sql_query(query, conn)\r\n",
                "x_train = pd.DataFrame(sql_query, columns=['DipData', 'SpikeData', 'RandomSignedInt32'])\r\n",
                "\r\n",
                "print(\"\\n*** Training dataset x\\n\")\r\n",
                "print(x_train.head())"
            ],
            "metadata": {
                "azdata_cell_guid": "f52cbb89-8ac4-408d-b74c-2160b5691dc0"
            },
            "outputs": [
                {
                    "name": "stdout",
                    "text": "\n*** Training dataset x\n\n     DipData  SpikeData  RandomSignedInt32\n0 -36.812455 -36.812455      -1.574417e+08\n1 -36.812455 -36.812455      -1.574417e+08\n2 -68.454711 -68.454711      -1.734891e+09\n3 -68.454711 -68.454711      -1.734891e+09\n4  95.105652  95.105652       4.466349e+08\n",
                    "output_type": "stream"
                }
            ],
            "execution_count": 31
        },
        {
            "cell_type": "markdown",
            "source": [
                "CREATE Y TRAIN DATASET"
            ],
            "metadata": {
                "azdata_cell_guid": "7f2af60d-bccd-494f-951a-1cc1e24f9c6a"
            },
            "attachments": {}
        },
        {
            "cell_type": "code",
            "source": [
                "target_column = 'MEDV'\r\n",
                "y_train = pd.DataFrame()\r\n",
                "\r\n",
                "y_train[target_column] = np.random.randint(100, size=(len(x_train)))\r\n",
                "\r\n",
                "print(\"\\n*** Training dataset y\\n\")\r\n",
                "print(y_train.head())"
            ],
            "metadata": {
                "azdata_cell_guid": "297d66f3-8f21-409d-8068-b285c9425efe"
            },
            "outputs": [
                {
                    "output_type": "stream",
                    "name": "stdout",
                    "text": "\n*** Training dataset y\n\n   MEDV\n0    90\n1    26\n2     2\n3     3\n4    22\n"
                }
            ],
            "execution_count": 4
        },
        {
            "cell_type": "markdown",
            "source": [
                "CREATE PIPELINE TO TRAIN THE LINEAR REGRESSION MODEL"
            ],
            "metadata": {
                "azdata_cell_guid": "593b8da3-a05e-40d8-85b6-cc8ee56d2d95"
            },
            "attachments": {}
        },
        {
            "cell_type": "code",
            "source": [
                "from sklearn.compose import ColumnTransformer\r\n",
                "from sklearn.linear_model import LinearRegression\r\n",
                "from sklearn.pipeline import Pipeline\r\n",
                "from sklearn.preprocessing import RobustScaler\r\n",
                "\r\n",
                "continuous_transformer = Pipeline(steps=[('scaler', RobustScaler())])\r\n",
                "\r\n",
                "# All columns are numeric - normalize them\r\n",
                "preprocessor = ColumnTransformer(\r\n",
                "    transformers = [\r\n",
                "        (\r\n",
                "            'continuous', \r\n",
                "            continuous_transformer, \r\n",
                "            [i for i in range(len(x_train.columns))]\r\n",
                "        )\r\n",
                "    ]\r\n",
                ")\r\n",
                "\r\n",
                "model = Pipeline(\r\n",
                "    steps=[\r\n",
                "        ('preprocessor', preprocessor),\r\n",
                "        ('regressor', LinearRegression())])\r\n",
                "\r\n",
                "# Train the model\r\n",
                "model.fit(x_train, y_train)"
            ],
            "metadata": {
                "azdata_cell_guid": "1220be84-0b79-4993-a151-b8a045ef2cfe"
            },
            "outputs": [
                {
                    "output_type": "execute_result",
                    "execution_count": 5,
                    "data": {
                        "text/plain": "Pipeline(steps=[('preprocessor',\n                 ColumnTransformer(transformers=[('continuous',\n                                                  Pipeline(steps=[('scaler',\n                                                                   RobustScaler())]),\n                                                  [0, 1, 2])])),\n                ('regressor', LinearRegression())])"
                    },
                    "metadata": {}
                }
            ],
            "execution_count": 5
        },
        {
            "cell_type": "markdown",
            "source": [
                "CHECK MODEL ACCURACY"
            ],
            "metadata": {
                "azdata_cell_guid": "380624de-b936-4ecf-bee7-d5ba1d4d9659"
            },
            "attachments": {}
        },
        {
            "cell_type": "code",
            "source": [
                "# Score the model\r\n",
                "from sklearn.metrics import r2_score, mean_squared_error\r\n",
                "y_pred = model.predict(x_train)\r\n",
                "sklearn_r2_score = r2_score(y_train, y_pred)\r\n",
                "sklearn_mse = mean_squared_error(y_train, y_pred)\r\n",
                "print('*** Scikit-learn r2 score: {}'.format(sklearn_r2_score))\r\n",
                "print('*** Scikit-learn MSE: {}'.format(sklearn_mse))"
            ],
            "metadata": {
                "azdata_cell_guid": "a628102e-fd8f-43d4-9723-444caa09cedf"
            },
            "outputs": [
                {
                    "output_type": "stream",
                    "name": "stdout",
                    "text": "*** Scikit-learn r2 score: 0.0007844648024204481\n*** Scikit-learn MSE: 837.4150066212547\n"
                }
            ],
            "execution_count": 7
        },
        {
            "cell_type": "markdown",
            "source": [
                "DEFINE FUNCTION TO CONVERT MODEL TO ONNX"
            ],
            "metadata": {
                "azdata_cell_guid": "b83c76fe-ad20-43ca-af38-163c3750965d"
            },
            "attachments": {}
        },
        {
            "cell_type": "code",
            "source": [
                "from skl2onnx.common.data_types import FloatTensorType, Int64TensorType, DoubleTensorType\r\n",
                "\r\n",
                "def convert_dataframe_schema(df, drop=None, batch_axis=False):\r\n",
                "    inputs = []\r\n",
                "    nrows = None if batch_axis else 1\r\n",
                "    for k, v in zip(df.columns, df.dtypes):\r\n",
                "        if drop is not None and k in drop:\r\n",
                "            continue\r\n",
                "        if v == 'int64':\r\n",
                "            t = Int64TensorType([nrows, 1])\r\n",
                "        elif v == 'float32':\r\n",
                "            t = FloatTensorType([nrows, 1])\r\n",
                "        elif v == 'float64':\r\n",
                "            t = DoubleTensorType([nrows, 1])\r\n",
                "        else:\r\n",
                "            raise Exception(\"Bad type\")\r\n",
                "        inputs.append((k, t))\r\n",
                "    return inputs"
            ],
            "metadata": {
                "azdata_cell_guid": "66d907db-56bf-4dcd-b742-cf2c9105d313"
            },
            "outputs": [],
            "execution_count": 8
        },
        {
            "cell_type": "markdown",
            "source": [
                "SAVE MODEL IN ONNX FORMAT"
            ],
            "metadata": {
                "azdata_cell_guid": "2a9fc89a-b24d-47e1-8379-4aefd83b0397"
            },
            "attachments": {}
        },
        {
            "cell_type": "code",
            "source": [
                "# Convert the scikit model to onnx format\r\n",
                "onnx_model = skl2onnx.convert_sklearn(model, 'OPC tags data', convert_dataframe_schema(x_train), final_types=[('variable1',FloatTensorType([1,1]))], target_opset=11)\r\n",
                "# Save the onnx model locally\r\n",
                "onnx_model_path = 'opcnodes.model.onnx'\r\n",
                "onnxmltools.utils.save_model(onnx_model, onnx_model_path)"
            ],
            "metadata": {
                "azdata_cell_guid": "95a37d5d-4fca-44b5-ab4a-757debe1a414"
            },
            "outputs": [],
            "execution_count": 9
        },
        {
            "cell_type": "markdown",
            "source": [
                "TEST ONNX MODEL"
            ],
            "metadata": {
                "azdata_cell_guid": "e7b75cf7-8a94-42b9-b012-beb0666fbe55"
            },
            "attachments": {}
        },
        {
            "cell_type": "code",
            "source": [
                "import onnxruntime as rt\r\n",
                "sess = rt.InferenceSession(onnx_model_path)\r\n",
                "\r\n",
                "y_pred = np.full(shape=(len(x_train)), fill_value=np.nan)\r\n",
                "\r\n",
                "for i in range(len(x_train)):\r\n",
                "    inputs = {}\r\n",
                "    for j in range(len(x_train.columns)):\r\n",
                "        inputs[x_train.columns[j]] = np.full(shape=(1,1), fill_value=x_train.iloc[i,j])\r\n",
                "\r\n",
                "    sess_pred = sess.run(None, inputs)\r\n",
                "    y_pred[i] = sess_pred[0][0][0]\r\n",
                "\r\n",
                "onnx_r2_score = r2_score(y_train, y_pred)\r\n",
                "onnx_mse = mean_squared_error(y_train, y_pred)\r\n",
                "\r\n",
                "print()\r\n",
                "print('*** Onnx r2 score: {}'.format(onnx_r2_score))\r\n",
                "print('*** Onnx MSE: {}\\n'.format(onnx_mse))\r\n",
                "print('R2 Scores are equal' if sklearn_r2_score == onnx_r2_score else 'Difference in R2 scores: {}'.format(abs(sklearn_r2_score - onnx_r2_score)))\r\n",
                "print('MSE are equal' if sklearn_mse == onnx_mse else 'Difference in MSE scores: {}'.format(abs(sklearn_mse - onnx_mse)))"
            ],
            "metadata": {
                "azdata_cell_guid": "1ba02875-cb66-489c-9341-502e853be0f5"
            },
            "outputs": [
                {
                    "output_type": "stream",
                    "name": "stdout",
                    "text": "\n*** Onnx r2 score: 0.0007844624414192758\n*** Onnx MSE: 837.4150085999447\n\nDifference in R2 scores: 2.3610011723462776e-09\nDifference in MSE scores: 1.978689965653757e-06\n\n"
                }
            ],
            "execution_count": 10
        },
        {
            "cell_type": "markdown",
            "source": [
                "<u>INSERT MODEL IN DATABASE</u>"
            ],
            "metadata": {
                "azdata_cell_guid": "f1afba4f-18ea-4cfa-98c7-50cac1aad6f0"
            },
            "attachments": {}
        },
        {
            "cell_type": "code",
            "source": [
                "# Insert the ONNX model into the models table for each value of ApplicationUri\r\n",
                "query = f'SELECT DISTINCT ApplicationUri FROM {data_table}'\r\n",
                "cursor = conn.cursor()\r\n",
                "cursor.execute(query)\r\n",
                "application_uris = cursor.fetchall()\r\n",
                "\r\n",
                "for app in application_uris:\r\n",
                "    query = f\"insert into {models_table} ([applicationUri], [description], [data]) values ('{app[0]}', 'Onnx Model', ?)\"\r\n",
                "    model_bits = onnx_model.SerializeToString()\r\n",
                "    insert_params  = (pyodbc.Binary(model_bits))\r\n",
                "    cursor.execute(query, insert_params)\r\n",
                "    conn.commit()"
            ],
            "metadata": {
                "azdata_cell_guid": "7903a3ec-b5c7-45e8-8d2b-3d4a93d0385a"
            },
            "outputs": [],
            "execution_count": 11
        },
        {
            "cell_type": "markdown",
            "source": [
                "RUN PREDICTION"
            ],
            "metadata": {
                "azdata_cell_guid": "2beb33c4-1ab6-482e-91af-9e1e2ba331ff"
            },
            "attachments": {}
        },
        {
            "cell_type": "code",
            "source": [
                "\r\n",
                "import pandas as pd\r\n",
                "\r\n",
                "conn = pyodbc.connect(db_connection_string, autocommit=True)\r\n",
                "cursor = conn.cursor()\r\n",
                "\r\n",
                "# get ONNX model\r\n",
                "app_uri = 'urn:OpcPlc:opcserver1'\r\n",
                "query = f'SELECT data FROM {models_table} WHERE applicationUri= \\'{app_uri}\\''\r\n",
                "cursor.execute(query)\r\n",
                "onnx_model = cursor.fetchall()[0][0]\r\n",
                "\r\n",
                "# get feature data\r\n",
                "row_count = 5\r\n",
                "query = f'SELECT top {row_count} DipData, SpikeData, RandomSignedInt32 FROM {data_table} WHERE ApplicationUri= \\'{app_uri}\\' AND DipData IS NOT NULL AND SpikeData IS NOT NULL AND RandomSignedInt32 IS NOT NULL ORDER BY SourceTimestamp DESC'\r\n",
                "sql_query = pd.read_sql_query(query, conn)\r\n",
                "\r\n",
                "x_train = pd.DataFrame(sql_query, columns=['DipData', 'SpikeData', 'RandomSignedInt32'])\r\n",
                "\r\n",
                "sess = rt.InferenceSession(onnx_model)\r\n",
                "\r\n",
                "y_pred = np.full(shape=(len(x_train)), fill_value=np.nan)\r\n",
                "\r\n",
                "for i in range(len(x_train)):\r\n",
                "    inputs = {}\r\n",
                "    for j in range(len(x_train.columns)):\r\n",
                "        inputs[x_train.columns[j]] = np.full(shape=(1,1), fill_value=x_train.iloc[i,j])\r\n",
                "\r\n",
                "    sess_pred = sess.run(None, inputs)\r\n",
                "    y_pred[i] = sess_pred[0][0][0]\r\n",
                "\r\n",
                "print(y_pred)"
            ],
            "metadata": {
                "azdata_cell_guid": "20205aa9-0611-4491-99e1-3d6a57d82c76"
            },
            "outputs": [
                {
                    "name": "stdout",
                    "text": "[49.61162567 49.61162567 49.39315414 52.83380508 49.39315414]\n",
                    "output_type": "stream"
                }
            ],
            "execution_count": 37
        },
        {
            "cell_type": "code",
            "source": [
                "out.name"
            ],
            "metadata": {
                "azdata_cell_guid": "98a2b013-ad7a-456d-ad33-bc8aa7956ba9"
            },
            "outputs": [
                {
                    "data": {
                        "text/plain": "'variable1'"
                    },
                    "metadata": {},
                    "execution_count": 25,
                    "output_type": "execute_result"
                }
            ],
            "execution_count": 25
        }
    ]
}